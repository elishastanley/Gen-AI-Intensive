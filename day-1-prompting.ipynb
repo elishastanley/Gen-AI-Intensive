{
 "cells": [
  {
   "cell_type": "markdown",
   "id": "c1041555",
   "metadata": {
    "id": "jkxRSYjzA1oX",
    "papermill": {
     "duration": 0.022022,
     "end_time": "2024-11-13T11:16:17.636039",
     "exception": false,
     "start_time": "2024-11-13T11:16:17.614017",
     "status": "completed"
    },
    "tags": []
   },
   "source": [
    "##### Copyright 2024 Google LLC."
   ]
  },
  {
   "cell_type": "code",
   "execution_count": 1,
   "id": "af0353b4",
   "metadata": {
    "cellView": "form",
    "execution": {
     "iopub.execute_input": "2024-11-13T11:16:17.682046Z",
     "iopub.status.busy": "2024-11-13T11:16:17.681361Z",
     "iopub.status.idle": "2024-11-13T11:16:17.690039Z",
     "shell.execute_reply": "2024-11-13T11:16:17.688405Z"
    },
    "id": "5u5OZ2ShA3BA",
    "papermill": {
     "duration": 0.037693,
     "end_time": "2024-11-13T11:16:17.693449",
     "exception": false,
     "start_time": "2024-11-13T11:16:17.655756",
     "status": "completed"
    },
    "tags": []
   },
   "outputs": [],
   "source": [
    "# @title Licensed under the Apache License, Version 2.0 (the \"License\");\n",
    "# you may not use this file except in compliance with the License.\n",
    "# You may obtain a copy of the License at\n",
    "#\n",
    "# https://www.apache.org/licenses/LICENSE-2.0\n",
    "#\n",
    "# Unless required by applicable law or agreed to in writing, software\n",
    "# distributed under the License is distributed on an \"AS IS\" BASIS,\n",
    "# WITHOUT WARRANTIES OR CONDITIONS OF ANY KIND, either express or implied.\n",
    "# See the License for the specific language governing permissions and\n",
    "# limitations under the License."
   ]
  },
  {
   "cell_type": "markdown",
   "id": "2737862d",
   "metadata": {
    "id": "csNPnkuCobmG",
    "papermill": {
     "duration": 0.020029,
     "end_time": "2024-11-13T11:16:17.734725",
     "exception": false,
     "start_time": "2024-11-13T11:16:17.714696",
     "status": "completed"
    },
    "tags": []
   },
   "source": [
    "# Day 1 - Prompting\n",
    "\n",
    "Welcome to the Kaggle 5-day Generative AI course!\n",
    "\n",
    "This notebook will show you how to get started with the Gemini API and walk you through some of the example prompts and techniques that you can also read about in the Prompting whitepaper. You don't need to read the whitepaper to use this notebook, but the papers will give you some theoretical context and background to complement this interactive notebook.\n",
    "\n",
    "\n",
    "## Before you begin\n",
    "\n",
    "In this notebook, you'll start exploring prompts and prompt parameters using the Python SDK and AI Studio. For some inspiration, you might enjoy exploring some apps that have been built using the Gemini family of models. Here are a few that we like, and we think you will too.\n",
    "\n",
    "* [TextFX](https://textfx.withgoogle.com/) is a suite of AI-powered tools for rappers, made in collaboration with Lupe Fiasco,\n",
    "* [SQL Talk](https://sql-talk-r5gdynozbq-uc.a.run.app/) shows how you can talk directly to a database using the Gemini API,\n",
    "* [NotebookLM](https://notebooklm.google/) uses Gemini models to build your own personal AI research assistant.\n",
    "\n",
    "\n",
    "## For help\n",
    "\n",
    "**Common issues are covered in the [FAQ and troubleshooting guide](https://www.kaggle.com/code/markishere/day-0-troubleshooting-and-faqs).**\n",
    "\n",
    "### A note on the Gemini API and Vertex AI\n",
    "\n",
    "In the whitepapers, most of the example code uses the Enterprise [Vertex AI platform](https://cloud.google.com/vertex-ai). In contrast, this notebook, along with the others in this series, will use the [Gemini Developer API](https://ai.google.dev/gemini-api/) and [AI Studio](https://aistudio.google.com/).\n",
    "\n",
    "Both APIs provide access to the Gemini family of models, and the code to interact with the models is very similar. Vertex provides a world-class platform for enterprises, governments and advanced users that need powerful features like data governance, ML ops and deep Google Cloud integration.\n",
    "\n",
    "AI Studio is free to use and only requires a compatible Google account to log in and get started. It is deeply integrated with the Gemini API, which comes with a generous [free tier](https://ai.google.dev/pricing) that you can use to run the code in these exercises.\n",
    "\n",
    "If you are already set up with Google Cloud, you can check out the [Enterprise Gemini API](https://cloud.google.com/vertex-ai/generative-ai/docs/model-reference/inference) through Vertex AI, and run the samples directly from the supplied whitepapers."
   ]
  },
  {
   "attachments": {
    "d8299597-f771-4195-ac94-1d6f658ef2bd.png": {
     "image/png": "[encoded data removed]"
    },
    "ed25e346-2e15-4ab0-bc22-503eb1845e66.png": {
     "image/png": "[encoded data removed]"
    }
   },
   "cell_type": "markdown",
   "id": "8d69f443",
   "metadata": {
    "id": "f00ea7c99e44",
    "papermill": {
     "duration": 0.021109,
     "end_time": "2024-11-13T11:16:17.778241",
     "exception": false,
     "start_time": "2024-11-13T11:16:17.757132",
     "status": "completed"
    },
    "tags": []
   },
   "source": [
    "## Get started with Kaggle notebooks\n",
    "\n",
    "If this is your first time using a Kaggle notebook, welcome! You can read about how to use Kaggle notebooks [in the docs](https://www.kaggle.com/docs/notebooks).\n",
    "\n",
    "First, you will need to phone verify your account at kaggle.com/settings.\n",
    "\n",
    "![](https://storage.googleapis.com/kaggle-media/Images/5dgai_0.png)"
   ]
  },
  {
   "cell_type": "markdown",
   "id": "0ca40ee3",
   "metadata": {
    "papermill": {
     "duration": 0.020896,
     "end_time": "2024-11-13T11:16:17.819394",
     "exception": false,
     "start_time": "2024-11-13T11:16:17.798498",
     "status": "completed"
    },
    "tags": []
   },
   "source": [
    "To run this notebook, as well as the others in this course, you will need to make a copy, or fork, the notebook. Look for the `Copy and Edit` button in the top-right, and **click it** to make an editable, private copy of the notebook. It should look like this one:\n",
    "\n",
    "![Copy and Edit button](https://storage.googleapis.com/kaggle-media/Images/5gdai_sc_1.png)\n",
    "\n",
    "Your copy will now have a ▶️ **Run** button next to each code cell that you can press to execute that cell. These notebooks are expected to be run in order from top-to-bottom, but you are encouraged to add new cells, run your own code and explore. If you get stuck, you can try the `Factory reset` option in the `Run` menu, or head back to the original notebook and make a fresh copy.\n",
    "\n",
    "![Run cell button](https://storage.googleapis.com/kaggle-media/Images/5gdai_sc_2.png)\n",
    "\n",
    "### Problems?\n",
    "\n",
    "If you have any problems, head over to the [Kaggle Discord](https://discord.com/invite/kaggle), find the [`#5dgai-q-and-a` channel](https://discord.com/channels/1101210829807956100/1303438695143178251) and ask for help."
   ]
  },
  {
   "cell_type": "markdown",
   "id": "ce0a9f08",
   "metadata": {
    "id": "ExkOXcPxtTb5",
    "papermill": {
     "duration": 0.020264,
     "end_time": "2024-11-13T11:16:17.859077",
     "exception": false,
     "start_time": "2024-11-13T11:16:17.838813",
     "status": "completed"
    },
    "tags": []
   },
   "source": [
    "## Get started with the Gemini API\n",
    "\n",
    "All of the exercises in this notebook will use the [Gemini API](https://ai.google.dev/gemini-api/) by way of the [Python SDK](https://pypi.org/project/google-generativeai/). Each of these prompts can be accessed directly in [Google AI Studio](https://aistudio.google.com/) too, so if you would rather use a web interface and skip the code for this activity, look for the <img src=\"https://ai.google.dev/site-assets/images/marketing/home/icon-ais.png\" style=\"height: 24px\" height=24/> AI Studio link on each prompt."
   ]
  },
  {
   "cell_type": "markdown",
   "id": "4acc5ace",
   "metadata": {
    "papermill": {
     "duration": 0.019657,
     "end_time": "2024-11-13T11:16:17.900423",
     "exception": false,
     "start_time": "2024-11-13T11:16:17.880766",
     "status": "completed"
    },
    "tags": []
   },
   "source": [
    "Next, you will need to add your API key to your Kaggle Notebook as a Kaggle User Secret.\n",
    "\n",
    "![](https://storage.googleapis.com/kaggle-media/Images/5dgai_1.png)\n",
    "![](https://storage.googleapis.com/kaggle-media/Images/5dgai_2.png)\n",
    "![](https://storage.googleapis.com/kaggle-media/Images/5dgai_3.png)\n",
    "![](https://storage.googleapis.com/kaggle-media/Images/5dgai_4.png)"
   ]
  },
  {
   "cell_type": "markdown",
   "id": "0d2f719c",
   "metadata": {
    "id": "UAjUV3BsvFXQ",
    "papermill": {
     "duration": 0.021066,
     "end_time": "2024-11-13T11:16:17.941829",
     "exception": false,
     "start_time": "2024-11-13T11:16:17.920763",
     "status": "completed"
    },
    "tags": []
   },
   "source": [
    "### Install the SDK"
   ]
  },
  {
   "cell_type": "code",
   "execution_count": 2,
   "id": "93d3d480",
   "metadata": {
    "execution": {
     "iopub.execute_input": "2024-11-13T11:16:17.985469Z",
     "iopub.status.busy": "2024-11-13T11:16:17.985009Z",
     "iopub.status.idle": "2024-11-13T11:16:54.178380Z",
     "shell.execute_reply": "2024-11-13T11:16:54.176530Z"
    },
    "id": "NzwzJFU9LqkJ",
    "papermill": {
     "duration": 36.241078,
     "end_time": "2024-11-13T11:16:54.203039",
     "exception": false,
     "start_time": "2024-11-13T11:16:17.961961",
     "status": "completed"
    },
    "tags": []
   },
   "outputs": [
    {
     "name": "stdout",
     "output_type": "stream",
     "text": [
      "Note: you may need to restart the kernel to use updated packages.\n"
     ]
    }
   ],
   "source": [
    "%pip install -U -q \"google-generativeai>=0.8.3\""
   ]
  },
  {
   "cell_type": "code",
   "execution_count": 3,
   "id": "072f38bb",
   "metadata": {
    "execution": {
     "iopub.execute_input": "2024-11-13T11:16:54.248176Z",
     "iopub.status.busy": "2024-11-13T11:16:54.247260Z",
     "iopub.status.idle": "2024-11-13T11:16:55.639160Z",
     "shell.execute_reply": "2024-11-13T11:16:55.638000Z"
    },
    "id": "5DwxYIRavMST",
    "papermill": {
     "duration": 1.41874,
     "end_time": "2024-11-13T11:16:55.642202",
     "exception": false,
     "start_time": "2024-11-13T11:16:54.223462",
     "status": "completed"
    },
    "tags": []
   },
   "outputs": [],
   "source": [
    "import google.generativeai as genai\n",
    "from IPython.display import HTML, Markdown, display"
   ]
  },
  {
   "cell_type": "markdown",
   "id": "34c29a88",
   "metadata": {
    "id": "DNEt2BCOvOJ1",
    "papermill": {
     "duration": 0.02072,
     "end_time": "2024-11-13T11:16:55.682929",
     "exception": false,
     "start_time": "2024-11-13T11:16:55.662209",
     "status": "completed"
    },
    "tags": []
   },
   "source": [
    "### Set up your API key\n",
    "\n",
    "To run the following cell, your API key must be stored it in a [Kaggle secret](https://www.kaggle.com/discussions/product-feedback/114053) named `GOOGLE_API_KEY`.\n",
    "\n",
    "If you don't already have an API key, you can grab one from [AI Studio](https://aistudio.google.com/app/apikey). You can find [detailed instructions in the docs](https://ai.google.dev/gemini-api/docs/api-key).\n",
    "\n",
    "To make the key available through Kaggle secrets, choose `Secrets` from the `Add-ons` menu and follow the instructions to add your key or enable it for this notebook."
   ]
  },
  {
   "cell_type": "code",
   "execution_count": 4,
   "id": "69b09e74",
   "metadata": {
    "execution": {
     "iopub.execute_input": "2024-11-13T11:16:55.726514Z",
     "iopub.status.busy": "2024-11-13T11:16:55.725643Z",
     "iopub.status.idle": "2024-11-13T11:16:55.876931Z",
     "shell.execute_reply": "2024-11-13T11:16:55.875512Z"
    },
    "id": "SHl0bkPCvayd",
    "papermill": {
     "duration": 0.175792,
     "end_time": "2024-11-13T11:16:55.880086",
     "exception": false,
     "start_time": "2024-11-13T11:16:55.704294",
     "status": "completed"
    },
    "tags": []
   },
   "outputs": [],
   "source": [
    "from kaggle_secrets import UserSecretsClient\n",
    "\n",
    "GOOGLE_API_KEY = UserSecretsClient().get_secret(\"GOOGLE_API_KEY\")\n",
    "genai.configure(api_key=GOOGLE_API_KEY)"
   ]
  },
  {
   "attachments": {
    "d2be9aab-2527-48af-b6cf-1f06cdd7c3a7.png": {
     "image/png": "[encoded data removed]"
    }
   },
   "cell_type": "markdown",
   "id": "e94e45fc",
   "metadata": {
    "id": "4e720472fd86",
    "papermill": {
     "duration": 0.020594,
     "end_time": "2024-11-13T11:16:55.921250",
     "exception": false,
     "start_time": "2024-11-13T11:16:55.900656",
     "status": "completed"
    },
    "tags": []
   },
   "source": [
    "If you received an error response along the lines of `No user secrets exist for kernel id ...`, then you need to add your API key via `Add-ons`, `Secrets` **and** enable it.\n",
    "\n",
    "![Screenshot of the checkbox to enable GOOGLE_API_KEY secret](https://storage.googleapis.com/kaggle-media/Images/5gdai_sc_3.png)"
   ]
  },
  {
   "cell_type": "markdown",
   "id": "7b31096a",
   "metadata": {
    "id": "H_YXCYIKvyZJ",
    "papermill": {
     "duration": 0.020303,
     "end_time": "2024-11-13T11:16:55.965285",
     "exception": false,
     "start_time": "2024-11-13T11:16:55.944982",
     "status": "completed"
    },
    "tags": []
   },
   "source": [
    "### Run your first prompt\n",
    "\n",
    "In this step, you will test that your API key is set up correctly by making a request. The `gemini-1.5-flash` model has been selected here."
   ]
  },
  {
   "cell_type": "code",
   "execution_count": 5,
   "id": "8674a1b8",
   "metadata": {
    "execution": {
     "iopub.execute_input": "2024-11-13T11:16:56.009319Z",
     "iopub.status.busy": "2024-11-13T11:16:56.008894Z",
     "iopub.status.idle": "2024-11-13T11:16:57.973802Z",
     "shell.execute_reply": "2024-11-13T11:16:57.972319Z"
    },
    "id": "BV1o0PmcvyJF",
    "papermill": {
     "duration": 1.989504,
     "end_time": "2024-11-13T11:16:57.976650",
     "exception": false,
     "start_time": "2024-11-13T11:16:55.987146",
     "status": "completed"
    },
    "tags": []
   },
   "outputs": [
    {
     "name": "stdout",
     "output_type": "stream",
     "text": [
      "Imagine you have a really smart friend who can learn things really quickly.  That friend is like AI, or Artificial Intelligence!  \n",
      "\n",
      "AI is like a computer program that can learn and think like a human.  It can do lots of cool things like:\n",
      "\n",
      "* **Play games:** AI can play games like chess or video games really well, even better than some people!\n",
      "* **Recognize faces:**  AI can look at a picture and tell you who's in it.\n",
      "* **Translate languages:**  AI can take words in one language and turn them into another language.\n",
      "* **Write stories:** AI can even write stories, poems, and songs!\n",
      "\n",
      "AI learns by looking at lots of information, like pictures, videos, and words. It uses this information to figure out patterns and how things work.  The more information it gets, the smarter it becomes! \n",
      "\n",
      "AI is still learning, but it's already being used in lots of ways to help us do things faster and better.  It's like having a super smart helper!\n",
      "\n"
     ]
    }
   ],
   "source": [
    "flash = genai.GenerativeModel('gemini-1.5-flash')\n",
    "response = flash.generate_content(\"Explain AI to me like I'm a kid.\")\n",
    "print(response.text)"
   ]
  },
  {
   "cell_type": "markdown",
   "id": "29ba9696",
   "metadata": {
    "id": "f60ed9d8ae41",
    "papermill": {
     "duration": 0.020132,
     "end_time": "2024-11-13T11:16:58.017703",
     "exception": false,
     "start_time": "2024-11-13T11:16:57.997571",
     "status": "completed"
    },
    "tags": []
   },
   "source": [
    "The response often comes back in markdown format, which you can render directly in this notebook."
   ]
  },
  {
   "cell_type": "code",
   "execution_count": 6,
   "id": "7f938c70",
   "metadata": {
    "execution": {
     "iopub.execute_input": "2024-11-13T11:16:58.064031Z",
     "iopub.status.busy": "2024-11-13T11:16:58.063515Z",
     "iopub.status.idle": "2024-11-13T11:16:58.075556Z",
     "shell.execute_reply": "2024-11-13T11:16:58.073746Z"
    },
    "id": "c933e5e460a5",
    "papermill": {
     "duration": 0.039589,
     "end_time": "2024-11-13T11:16:58.078645",
     "exception": false,
     "start_time": "2024-11-13T11:16:58.039056",
     "status": "completed"
    },
    "tags": []
   },
   "outputs": [
    {
     "data": {
      "text/markdown": [
       "Imagine you have a really smart friend who can learn things really quickly.  That friend is like AI, or Artificial Intelligence!  \n",
       "\n",
       "AI is like a computer program that can learn and think like a human.  It can do lots of cool things like:\n",
       "\n",
       "* **Play games:** AI can play games like chess or video games really well, even better than some people!\n",
       "* **Recognize faces:**  AI can look at a picture and tell you who's in it.\n",
       "* **Translate languages:**  AI can take words in one language and turn them into another language.\n",
       "* **Write stories:** AI can even write stories, poems, and songs!\n",
       "\n",
       "AI learns by looking at lots of information, like pictures, videos, and words. It uses this information to figure out patterns and how things work.  The more information it gets, the smarter it becomes! \n",
       "\n",
       "AI is still learning, but it's already being used in lots of ways to help us do things faster and better.  It's like having a super smart helper!\n"
      ],
      "text/plain": [
       "<IPython.core.display.Markdown object>"
      ]
     },
     "execution_count": 6,
     "metadata": {},
     "output_type": "execute_result"
    }
   ],
   "source": [
    "Markdown(response.text)"
   ]
  },
  {
   "cell_type": "markdown",
   "id": "c87297fb",
   "metadata": {
    "id": "byx0pT9ZMW2Q",
    "papermill": {
     "duration": 0.021632,
     "end_time": "2024-11-13T11:16:58.121336",
     "exception": false,
     "start_time": "2024-11-13T11:16:58.099704",
     "status": "completed"
    },
    "tags": []
   },
   "source": [
    "### Start a chat\n",
    "\n",
    "The previous example uses a single-turn, text-in/text-out structure, but you can also set up a multi-turn chat structure too."
   ]
  },
  {
   "cell_type": "code",
   "execution_count": 7,
   "id": "03f5c7e7",
   "metadata": {
    "execution": {
     "iopub.execute_input": "2024-11-13T11:16:58.168867Z",
     "iopub.status.busy": "2024-11-13T11:16:58.166950Z",
     "iopub.status.idle": "2024-11-13T11:16:59.201755Z",
     "shell.execute_reply": "2024-11-13T11:16:59.200365Z"
    },
    "id": "lV_S5ZL5MidD",
    "papermill": {
     "duration": 1.062353,
     "end_time": "2024-11-13T11:16:59.204660",
     "exception": false,
     "start_time": "2024-11-13T11:16:58.142307",
     "status": "completed"
    },
    "tags": []
   },
   "outputs": [
    {
     "name": "stdout",
     "output_type": "stream",
     "text": [
      "Hello Zlork! It's nice to meet you. What can I do for you today? 😊 \n",
      "\n"
     ]
    }
   ],
   "source": [
    "chat = flash.start_chat(history=[])\n",
    "response = chat.send_message('Hello! My name is Zlork.')\n",
    "print(response.text)"
   ]
  },
  {
   "cell_type": "code",
   "execution_count": 8,
   "id": "1bb7c723",
   "metadata": {
    "execution": {
     "iopub.execute_input": "2024-11-13T11:16:59.250344Z",
     "iopub.status.busy": "2024-11-13T11:16:59.249878Z",
     "iopub.status.idle": "2024-11-13T11:17:00.459245Z",
     "shell.execute_reply": "2024-11-13T11:17:00.457575Z"
    },
    "id": "7b0372c3c64a",
    "papermill": {
     "duration": 1.237144,
     "end_time": "2024-11-13T11:17:00.462341",
     "exception": false,
     "start_time": "2024-11-13T11:16:59.225197",
     "status": "completed"
    },
    "tags": []
   },
   "outputs": [
    {
     "name": "stdout",
     "output_type": "stream",
     "text": [
      "You bet! Dinosaurs are fascinating creatures, and there's a lot to be learned about them. How about this: \n",
      "\n",
      "**Did you know that some dinosaurs had feathers?** \n",
      "\n",
      "It's true! We've discovered fossils that show that many dinosaurs, including velociraptors and even the mighty Tyrannosaurus Rex, had feathers. This discovery has changed the way we think about dinosaurs and has helped us understand how birds evolved from their dinosaur ancestors. \n",
      "\n",
      "Would you like to learn more about feathered dinosaurs, or perhaps something else about these amazing creatures? Just let me know! 🦖 \n",
      "\n"
     ]
    }
   ],
   "source": [
    "response = chat.send_message('Can you tell something interesting about dinosaurs?')\n",
    "print(response.text)"
   ]
  },
  {
   "cell_type": "code",
   "execution_count": 9,
   "id": "e3b459b1",
   "metadata": {
    "execution": {
     "iopub.execute_input": "2024-11-13T11:17:00.511218Z",
     "iopub.status.busy": "2024-11-13T11:17:00.510739Z",
     "iopub.status.idle": "2024-11-13T11:17:01.085370Z",
     "shell.execute_reply": "2024-11-13T11:17:01.083546Z"
    },
    "id": "d3f9591392a7",
    "papermill": {
     "duration": 0.602929,
     "end_time": "2024-11-13T11:17:01.089436",
     "exception": false,
     "start_time": "2024-11-13T11:17:00.486507",
     "status": "completed"
    },
    "tags": []
   },
   "outputs": [
    {
     "name": "stdout",
     "output_type": "stream",
     "text": [
      "Of course I remember! Your name is Zlork. 😊  Is there anything else I can help you with? \n",
      "\n"
     ]
    }
   ],
   "source": [
    "# While you have the `chat` object around, the conversation state\n",
    "# persists. Confirm that by asking if it knows my name.\n",
    "response = chat.send_message('Do you remember what my name is?')\n",
    "print(response.text)"
   ]
  },
  {
   "cell_type": "markdown",
   "id": "e44ab7a4",
   "metadata": {
    "id": "2KAjpr1200sW",
    "papermill": {
     "duration": 0.019541,
     "end_time": "2024-11-13T11:17:01.130377",
     "exception": false,
     "start_time": "2024-11-13T11:17:01.110836",
     "status": "completed"
    },
    "tags": []
   },
   "source": [
    "### Choose a model\n",
    "\n",
    "The Gemini API provides access to a number of models from the Gemini model family. Read about the available models and their capabilities on the [model overview page](https://ai.google.dev/gemini-api/docs/models/gemini).\n",
    "\n",
    "In this step you'll use the API to list all of the available models."
   ]
  },
  {
   "cell_type": "code",
   "execution_count": 10,
   "id": "9708cb03",
   "metadata": {
    "execution": {
     "iopub.execute_input": "2024-11-13T11:17:01.176561Z",
     "iopub.status.busy": "2024-11-13T11:17:01.175409Z",
     "iopub.status.idle": "2024-11-13T11:17:01.342681Z",
     "shell.execute_reply": "2024-11-13T11:17:01.340939Z"
    },
    "id": "uUUZa2uq2jDm",
    "papermill": {
     "duration": 0.194405,
     "end_time": "2024-11-13T11:17:01.346108",
     "exception": false,
     "start_time": "2024-11-13T11:17:01.151703",
     "status": "completed"
    },
    "tags": []
   },
   "outputs": [
    {
     "name": "stdout",
     "output_type": "stream",
     "text": [
      "models/chat-bison-001\n",
      "models/text-bison-001\n",
      "models/embedding-gecko-001\n",
      "models/gemini-1.0-pro-latest\n",
      "models/gemini-1.0-pro\n",
      "models/gemini-pro\n",
      "models/gemini-1.0-pro-001\n",
      "models/gemini-1.0-pro-vision-latest\n",
      "models/gemini-pro-vision\n",
      "models/gemini-1.5-pro-latest\n",
      "models/gemini-1.5-pro-001\n",
      "models/gemini-1.5-pro-002\n",
      "models/gemini-1.5-pro\n",
      "models/gemini-1.5-pro-exp-0801\n",
      "models/gemini-1.5-pro-exp-0827\n",
      "models/gemini-1.5-flash-latest\n",
      "models/gemini-1.5-flash-001\n",
      "models/gemini-1.5-flash-001-tuning\n",
      "models/gemini-1.5-flash\n",
      "models/gemini-1.5-flash-exp-0827\n",
      "models/gemini-1.5-flash-002\n",
      "models/gemini-1.5-flash-8b\n",
      "models/gemini-1.5-flash-8b-001\n",
      "models/gemini-1.5-flash-8b-latest\n",
      "models/gemini-1.5-flash-8b-exp-0827\n",
      "models/gemini-1.5-flash-8b-exp-0924\n",
      "models/embedding-001\n",
      "models/text-embedding-004\n",
      "models/aqa\n"
     ]
    }
   ],
   "source": [
    "for model in genai.list_models():\n",
    "  print(model.name)"
   ]
  },
  {
   "cell_type": "markdown",
   "id": "e13a99ee",
   "metadata": {
    "id": "rN49kSI54R1v",
    "papermill": {
     "duration": 0.023358,
     "end_time": "2024-11-13T11:17:01.393266",
     "exception": false,
     "start_time": "2024-11-13T11:17:01.369908",
     "status": "completed"
    },
    "tags": []
   },
   "source": [
    "The [`models.list`](https://ai.google.dev/api/models#method:-models.list) response also returns additional information about the model's capabilities, like the token limits and supported parameters."
   ]
  },
  {
   "cell_type": "code",
   "execution_count": 11,
   "id": "c37848c7",
   "metadata": {
    "execution": {
     "iopub.execute_input": "2024-11-13T11:17:01.439844Z",
     "iopub.status.busy": "2024-11-13T11:17:01.439376Z",
     "iopub.status.idle": "2024-11-13T11:17:01.569447Z",
     "shell.execute_reply": "2024-11-13T11:17:01.567752Z"
    },
    "id": "k7JJ1K6j4Rl8",
    "papermill": {
     "duration": 0.157411,
     "end_time": "2024-11-13T11:17:01.572870",
     "exception": false,
     "start_time": "2024-11-13T11:17:01.415459",
     "status": "completed"
    },
    "tags": []
   },
   "outputs": [
    {
     "name": "stdout",
     "output_type": "stream",
     "text": [
      "Model(name='models/gemini-1.5-flash',\n",
      "      base_model_id='',\n",
      "      version='001',\n",
      "      display_name='Gemini 1.5 Flash',\n",
      "      description='Fast and versatile multimodal model for scaling across diverse tasks',\n",
      "      input_token_limit=1000000,\n",
      "      output_token_limit=8192,\n",
      "      supported_generation_methods=['generateContent', 'countTokens'],\n",
      "      temperature=1.0,\n",
      "      max_temperature=2.0,\n",
      "      top_p=0.95,\n",
      "      top_k=40)\n"
     ]
    }
   ],
   "source": [
    "for model in genai.list_models():\n",
    "  if model.name == 'models/gemini-1.5-flash':\n",
    "    print(model)\n",
    "    break"
   ]
  },
  {
   "cell_type": "markdown",
   "id": "f986a27a",
   "metadata": {
    "id": "5rU_UBlZdooM",
    "papermill": {
     "duration": 0.023118,
     "end_time": "2024-11-13T11:17:01.617924",
     "exception": false,
     "start_time": "2024-11-13T11:17:01.594806",
     "status": "completed"
    },
    "tags": []
   },
   "source": [
    "## Explore generation parameters\n",
    "\n"
   ]
  },
  {
   "cell_type": "markdown",
   "id": "81514d46",
   "metadata": {
    "id": "G7NfEizeipbW",
    "papermill": {
     "duration": 0.020807,
     "end_time": "2024-11-13T11:17:01.662054",
     "exception": false,
     "start_time": "2024-11-13T11:17:01.641247",
     "status": "completed"
    },
    "tags": []
   },
   "source": [
    "### Output length\n",
    "\n",
    "When generating text with an LLM, the output length affects cost and performance. Generating more tokens increases computation, leading to higher energy consumption, latency, and cost.\n",
    "\n",
    "To stop the model from generating tokens past a limit, you can specify the `max_output_length` parameter when using the Gemini API. Specifying this parameter does not influence the generation of the output tokens, so the output will not become more stylistically or textually succinct, but it will stop generating tokens once the specified length is reached. Prompt engineering may be required to generate a more complete output for your given limit."
   ]
  },
  {
   "cell_type": "code",
   "execution_count": 12,
   "id": "6bd2c458",
   "metadata": {
    "execution": {
     "iopub.execute_input": "2024-11-13T11:17:01.713928Z",
     "iopub.status.busy": "2024-11-13T11:17:01.711756Z",
     "iopub.status.idle": "2024-11-13T11:17:03.225827Z",
     "shell.execute_reply": "2024-11-13T11:17:03.224048Z"
    },
    "id": "qVf23JsIi9ma",
    "papermill": {
     "duration": 1.543724,
     "end_time": "2024-11-13T11:17:03.229102",
     "exception": false,
     "start_time": "2024-11-13T11:17:01.685378",
     "status": "completed"
    },
    "tags": []
   },
   "outputs": [
    {
     "name": "stdout",
     "output_type": "stream",
     "text": [
      "## The Enduring Appeal of the Olive: A Culinary and Cultural Icon in Modern Society\n",
      "\n",
      "The olive, a seemingly humble fruit, boasts a history intertwined with human civilization. Its journey from ancient Mediterranean landscapes to modern kitchens and beyond underscores its enduring appeal and importance in contemporary society. This essay will delve into the diverse facets of the olive's impact, exploring its culinary significance, its role in various industries, its cultural symbolism, and its health benefits.\n",
      "\n",
      "The olive's culinary journey is a tale of versatility and richness. Its versatility shines in the multitude of ways it is enjoyed, from the simple elegance of a pitted olive to the complex symphony of flavors in olive oil. As a table olive, it can be enjoyed as a snack, a salad garnish, or an ingredient in various dishes. The diverse methods of processing, from brine to oil curing, impart distinct textures and flavors, catering to various palates.\n",
      "\n",
      "The olive's contribution to global cuisine is undeniable. Mediterranean dishes, from the\n"
     ]
    }
   ],
   "source": [
    "short_model = genai.GenerativeModel(\n",
    "    'gemini-1.5-flash',\n",
    "    generation_config=genai.GenerationConfig(max_output_tokens=200))\n",
    "\n",
    "response = short_model.generate_content('Write a 1000 word essay on the importance of olives in modern society.')\n",
    "print(response.text)"
   ]
  },
  {
   "cell_type": "code",
   "execution_count": 13,
   "id": "cb3f9365",
   "metadata": {
    "execution": {
     "iopub.execute_input": "2024-11-13T11:17:03.275453Z",
     "iopub.status.busy": "2024-11-13T11:17:03.274994Z",
     "iopub.status.idle": "2024-11-13T11:17:04.714462Z",
     "shell.execute_reply": "2024-11-13T11:17:04.712579Z"
    },
    "id": "W-3kR2F5kdMR",
    "papermill": {
     "duration": 1.467804,
     "end_time": "2024-11-13T11:17:04.718093",
     "exception": false,
     "start_time": "2024-11-13T11:17:03.250289",
     "status": "completed"
    },
    "tags": []
   },
   "outputs": [
    {
     "name": "stdout",
     "output_type": "stream",
     "text": [
      "A tiny fruit, a verdant hue,\n",
      "A symbol of peace, forever true.\n",
      "From ancient groves to modern plates,\n",
      "The olive's bounty, fate dictates.\n",
      "\n",
      "Its oil, a treasure, light and bright,\n",
      "A culinary delight, day and night.\n",
      "From salads fresh to savory dips,\n",
      "The olive's flavor, never slips.\n",
      "\n",
      "A source of health, a gift so grand,\n",
      "A vital part, of every land.\n",
      "From olive trees, a legacy grows,\n",
      "A taste of life, as everyone knows. \n",
      "\n"
     ]
    }
   ],
   "source": [
    "response = short_model.generate_content('Write a short poem on the importance of olives in modern society.')\n",
    "print(response.text)"
   ]
  },
  {
   "cell_type": "markdown",
   "id": "7c512cbc",
   "metadata": {
    "id": "3ZhDSLB6lqqB",
    "papermill": {
     "duration": 0.022852,
     "end_time": "2024-11-13T11:17:04.762990",
     "exception": false,
     "start_time": "2024-11-13T11:17:04.740138",
     "status": "completed"
    },
    "tags": []
   },
   "source": [
    "Explore with your own prompts. Try a prompt with a restrictive output limit and then adjust the prompt to work within that limit."
   ]
  },
  {
   "cell_type": "markdown",
   "id": "c0efc925",
   "metadata": {
    "id": "alx-WaAvir_9",
    "papermill": {
     "duration": 0.022261,
     "end_time": "2024-11-13T11:17:04.808668",
     "exception": false,
     "start_time": "2024-11-13T11:17:04.786407",
     "status": "completed"
    },
    "tags": []
   },
   "source": [
    "### Temperature\n",
    "\n",
    "Temperature controls the degree of randomness in token selection. Higher temperatures result in a higher number of candidate tokens from which the next output token is selected, and can produce more diverse results, while lower temperatures have the opposite effect, such that a temperature of 0 results in greedy decoding, selecting the most probable token at each step.\n",
    "\n",
    "Temperature doesn't provide any guarantees of randomness, but it can be used to \"nudge\" the output somewhat."
   ]
  },
  {
   "cell_type": "code",
   "execution_count": 14,
   "id": "eef67a6d",
   "metadata": {
    "execution": {
     "iopub.execute_input": "2024-11-13T11:17:04.855681Z",
     "iopub.status.busy": "2024-11-13T11:17:04.855181Z",
     "iopub.status.idle": "2024-11-13T11:18:06.039341Z",
     "shell.execute_reply": "2024-11-13T11:18:06.037728Z"
    },
    "id": "SHraGMzqnZqt",
    "papermill": {
     "duration": 61.211191,
     "end_time": "2024-11-13T11:18:06.042483",
     "exception": false,
     "start_time": "2024-11-13T11:17:04.831292",
     "status": "completed"
    },
    "tags": []
   },
   "outputs": [
    {
     "name": "stdout",
     "output_type": "stream",
     "text": [
      "Purple \n",
      " -------------------------\n",
      "Purple \n",
      " -------------------------\n",
      "Indigo \n",
      " -------------------------\n"
     ]
    }
   ],
   "source": [
    "import time\n",
    "\n",
    "high_temp_model = genai.GenerativeModel(\n",
    "    'gemini-1.5-flash',\n",
    "    generation_config=genai.GenerationConfig(temperature=2.0))\n",
    "\n",
    "for _ in range(3):\n",
    "  response = high_temp_model.generate_content('Pick a random colour... (answer in a single word)')\n",
    "  if response.parts:\n",
    "    print(response.text, '-' * 25)\n",
    "\n",
    "  # Slow down a bit so we don't get Resource Exhausted errors.\n",
    "  time.sleep(20)"
   ]
  },
  {
   "cell_type": "markdown",
   "id": "fed95d7c",
   "metadata": {
    "id": "z3J4pCTuof7e",
    "papermill": {
     "duration": 0.023883,
     "end_time": "2024-11-13T11:18:06.089200",
     "exception": false,
     "start_time": "2024-11-13T11:18:06.065317",
     "status": "completed"
    },
    "tags": []
   },
   "source": [
    "Now try the same prompt with temperature set to zero. Note that the output is not completely deterministic, as other parameters affect token selection, but the results will tend to be more stable."
   ]
  },
  {
   "cell_type": "code",
   "execution_count": 15,
   "id": "e07de0d8",
   "metadata": {
    "execution": {
     "iopub.execute_input": "2024-11-13T11:18:06.132882Z",
     "iopub.status.busy": "2024-11-13T11:18:06.132403Z",
     "iopub.status.idle": "2024-11-13T11:19:27.698437Z",
     "shell.execute_reply": "2024-11-13T11:19:27.697057Z"
    },
    "id": "clymkWv-PfUZ",
    "papermill": {
     "duration": 81.591099,
     "end_time": "2024-11-13T11:19:27.701645",
     "exception": false,
     "start_time": "2024-11-13T11:18:06.110546",
     "status": "completed"
    },
    "tags": []
   },
   "outputs": [
    {
     "name": "stdout",
     "output_type": "stream",
     "text": [
      "Purple \n",
      " -------------------------\n",
      "Purple \n",
      " -------------------------\n",
      "Purple \n",
      " -------------------------\n",
      "Purple \n",
      " -------------------------\n"
     ]
    }
   ],
   "source": [
    "low_temp_model = genai.GenerativeModel(\n",
    "    'gemini-1.5-flash',\n",
    "    generation_config=genai.GenerationConfig(temperature=0.0))\n",
    "\n",
    "for _ in range(4):\n",
    "  response = low_temp_model.generate_content('Pick a random colour... (answer in a single word)')\n",
    "  if response.parts:\n",
    "    print(response.text, '-' * 25)\n",
    "\n",
    "  time.sleep(20)"
   ]
  },
  {
   "cell_type": "markdown",
   "id": "63e821bc",
   "metadata": {
    "id": "St5nt3vzitsZ",
    "papermill": {
     "duration": 0.022838,
     "end_time": "2024-11-13T11:19:27.746686",
     "exception": false,
     "start_time": "2024-11-13T11:19:27.723848",
     "status": "completed"
    },
    "tags": []
   },
   "source": [
    "### Top-K and top-P\n",
    "\n",
    "Like temperature, top-K and top-P parameters are also used to control the diversity of the model's output.\n",
    "\n",
    "Top-K is a positive integer that defines the number of most probable tokens from which to select the output token. A top-K of 1 selects a single token, performing greedy decoding.\n",
    "\n",
    "Top-P defines the probability threshold that, once cumulatively exceeded, tokens stop being selected as candidates. A top-P of 0 is typically equivalent to greedy decoding, and a top-P of 1 typically selects every token in the model's vocabulary.\n",
    "\n",
    "When both are supplied, the Gemini API will filter top-K tokens first, then top-P and then finally sample from the candidate tokens using the supplied temperature.\n",
    "\n",
    "Run this example a number of times, change the settings and observe the change in output."
   ]
  },
  {
   "cell_type": "code",
   "execution_count": 16,
   "id": "51623c2d",
   "metadata": {
    "execution": {
     "iopub.execute_input": "2024-11-13T11:19:27.796030Z",
     "iopub.status.busy": "2024-11-13T11:19:27.795530Z",
     "iopub.status.idle": "2024-11-13T11:20:28.790389Z",
     "shell.execute_reply": "2024-11-13T11:20:28.788575Z"
    },
    "id": "lPlzpEavUV8F",
    "papermill": {
     "duration": 61.023031,
     "end_time": "2024-11-13T11:20:28.793681",
     "exception": false,
     "start_time": "2024-11-13T11:19:27.770650",
     "status": "completed"
    },
    "tags": []
   },
   "outputs": [
    {
     "name": "stdout",
     "output_type": "stream",
     "text": [
      "Blue \n",
      " -------------------------\n",
      "Orange \n",
      " -------------------------\n",
      "Blue \n",
      " -------------------------\n"
     ]
    }
   ],
   "source": [
    "import time\n",
    "\n",
    "model_name = \"gemini-1.5-flash\"  # original model\n",
    "# model_name = \"gemini-1.5-flash-latest\"\n",
    "# model_name = \"gemini-1.5-flash-001\"\n",
    "\n",
    "# prompt_text = \"Pick a random colour... (answer in a single word)\"  # Original\n",
    "prompt_text = \"You are a slot machine that returns a single colour without punctuation in English. What is your random colour now:\"\n",
    "\n",
    "high_temp_model = genai.GenerativeModel(\n",
    "    model_name,\n",
    "    generation_config=genai.GenerationConfig(\n",
    "        temperature=1.0,\n",
    "        top_k=64,\n",
    "        top_p=0.95,\n",
    "    ),\n",
    ")\n",
    "\n",
    "for _ in range(3):\n",
    "  response = high_temp_model.generate_content(\n",
    "      prompt_text,\n",
    "  )\n",
    "  if response.parts:\n",
    "    print(response.text, '-' * 25)\n",
    "\n",
    "  # Slow down a bit so we don't get Resource Exhausted errors.\n",
    "  time.sleep(20)"
   ]
  },
  {
   "cell_type": "markdown",
   "id": "5bb687fc",
   "metadata": {
    "id": "rMrYs1koY6DX",
    "papermill": {
     "duration": 0.022061,
     "end_time": "2024-11-13T11:20:28.839943",
     "exception": false,
     "start_time": "2024-11-13T11:20:28.817882",
     "status": "completed"
    },
    "tags": []
   },
   "source": [
    "## Prompting\n",
    "\n",
    "This section contains some prompts from the chapter for you to try out directly in the API. Try changing the text here to see how each prompt performs with different instructions, more examples, or any other changes you can think of."
   ]
  },
  {
   "cell_type": "markdown",
   "id": "6c76cdc5",
   "metadata": {
    "id": "hhj_tQidZJP7",
    "papermill": {
     "duration": 0.025026,
     "end_time": "2024-11-13T11:20:28.888031",
     "exception": false,
     "start_time": "2024-11-13T11:20:28.863005",
     "status": "completed"
    },
    "tags": []
   },
   "source": [
    "### Zero-shot\n",
    "\n",
    "Zero-shot prompts are prompts that describe the request for the model directly.\n",
    "\n",
    "<table align=left>\n",
    "  <td>\n",
    "    <a target=\"_blank\" href=\"https://aistudio.google.com/prompts/1gzKKgDHwkAvexG5Up0LMtl1-6jKMKe4g\"><img src=\"https://ai.google.dev/site-assets/images/marketing/home/icon-ais.png\" style=\"height: 24px\" height=24/> Open in AI Studio</a>\n",
    "  </td>\n",
    "</table>"
   ]
  },
  {
   "cell_type": "code",
   "execution_count": 17,
   "id": "1d04cc06",
   "metadata": {
    "execution": {
     "iopub.execute_input": "2024-11-13T11:20:28.936753Z",
     "iopub.status.busy": "2024-11-13T11:20:28.936262Z",
     "iopub.status.idle": "2024-11-13T11:20:29.298219Z",
     "shell.execute_reply": "2024-11-13T11:20:29.296902Z"
    },
    "id": "1_t-cwnDZzbH",
    "papermill": {
     "duration": 0.391,
     "end_time": "2024-11-13T11:20:29.301375",
     "exception": false,
     "start_time": "2024-11-13T11:20:28.910375",
     "status": "completed"
    },
    "tags": []
   },
   "outputs": [
    {
     "name": "stdout",
     "output_type": "stream",
     "text": [
      "Sentiment: **POSITIVE**\n"
     ]
    }
   ],
   "source": [
    "model = genai.GenerativeModel(\n",
    "    'gemini-1.5-flash-001',\n",
    "    generation_config=genai.GenerationConfig(\n",
    "        temperature=0.1,\n",
    "        top_p=1,\n",
    "        max_output_tokens=5,\n",
    "    ))\n",
    "\n",
    "zero_shot_prompt = \"\"\"Classify movie reviews as POSITIVE, NEUTRAL or NEGATIVE.\n",
    "Review: \"Her\" is a disturbing study revealing the direction\n",
    "humanity is headed if AI is allowed to keep evolving,\n",
    "unchecked. I wish there were more movies like this masterpiece.\n",
    "Sentiment: \"\"\"\n",
    "\n",
    "response = model.generate_content(zero_shot_prompt)\n",
    "print(response.text)"
   ]
  },
  {
   "cell_type": "markdown",
   "id": "25ef6d97",
   "metadata": {
    "id": "3b5568bdeb11",
    "papermill": {
     "duration": 0.022512,
     "end_time": "2024-11-13T11:20:29.345580",
     "exception": false,
     "start_time": "2024-11-13T11:20:29.323068",
     "status": "completed"
    },
    "tags": []
   },
   "source": [
    "#### Enum mode\n",
    "\n",
    "The models are trained to generate text, and can sometimes produce more text than you may wish for. In the preceding example, the model will output the label, sometimes it can include a preceding \"Sentiment\" label, and without an output token limit, it may also add explanatory text afterwards.\n",
    "\n",
    "The Gemini API has an [Enum mode](https://github.com/google-gemini/cookbook/blob/main/quickstarts/Enum.ipynb) feature that allows you to constrain the output to a fixed set of values."
   ]
  },
  {
   "cell_type": "code",
   "execution_count": 18,
   "id": "6c4dacec",
   "metadata": {
    "execution": {
     "iopub.execute_input": "2024-11-13T11:20:29.395677Z",
     "iopub.status.busy": "2024-11-13T11:20:29.395145Z",
     "iopub.status.idle": "2024-11-13T11:20:30.254637Z",
     "shell.execute_reply": "2024-11-13T11:20:30.252790Z"
    },
    "id": "ad118a56c598",
    "papermill": {
     "duration": 0.889028,
     "end_time": "2024-11-13T11:20:30.257684",
     "exception": false,
     "start_time": "2024-11-13T11:20:29.368656",
     "status": "completed"
    },
    "tags": []
   },
   "outputs": [
    {
     "name": "stdout",
     "output_type": "stream",
     "text": [
      "positive\n"
     ]
    }
   ],
   "source": [
    "import enum\n",
    "\n",
    "class Sentiment(enum.Enum):\n",
    "    POSITIVE = \"positive\"\n",
    "    NEUTRAL = \"neutral\"\n",
    "    NEGATIVE = \"negative\"\n",
    "\n",
    "\n",
    "model = genai.GenerativeModel(\n",
    "    'gemini-1.5-flash-001',\n",
    "    generation_config=genai.GenerationConfig(\n",
    "        response_mime_type=\"text/x.enum\",\n",
    "        response_schema=Sentiment\n",
    "    ))\n",
    "\n",
    "response = model.generate_content(zero_shot_prompt)\n",
    "print(response.text)"
   ]
  },
  {
   "cell_type": "markdown",
   "id": "402862f1",
   "metadata": {
    "id": "0udiSwNbv45W",
    "papermill": {
     "duration": 0.02468,
     "end_time": "2024-11-13T11:20:30.308045",
     "exception": false,
     "start_time": "2024-11-13T11:20:30.283365",
     "status": "completed"
    },
    "tags": []
   },
   "source": [
    "### One-shot and few-shot\n",
    "\n",
    "Providing an example of the expected response is known as a \"one-shot\" prompt. When you provide multiple examples, it is a \"few-shot\" prompt.\n",
    "\n",
    "<table align=left>\n",
    "  <td>\n",
    "    <a target=\"_blank\" href=\"https://aistudio.google.com/prompts/1jjWkjUSoMXmLvMJ7IzADr_GxHPJVV2bg\"><img src=\"https://ai.google.dev/site-assets/images/marketing/home/icon-ais.png\" style=\"height: 24px\" height=24/> Open in AI Studio</a>\n",
    "  </td>\n",
    "</table>\n"
   ]
  },
  {
   "cell_type": "code",
   "execution_count": 19,
   "id": "3f6866cb",
   "metadata": {
    "execution": {
     "iopub.execute_input": "2024-11-13T11:20:30.355654Z",
     "iopub.status.busy": "2024-11-13T11:20:30.355026Z",
     "iopub.status.idle": "2024-11-13T11:20:30.792083Z",
     "shell.execute_reply": "2024-11-13T11:20:30.789772Z"
    },
    "id": "hd4mVUukwOKZ",
    "papermill": {
     "duration": 0.463678,
     "end_time": "2024-11-13T11:20:30.795502",
     "exception": false,
     "start_time": "2024-11-13T11:20:30.331824",
     "status": "completed"
    },
    "tags": []
   },
   "outputs": [
    {
     "name": "stdout",
     "output_type": "stream",
     "text": [
      "```json\n",
      "{\n",
      "\"size\": \"large\",\n",
      "\"type\": \"normal\",\n",
      "\"ingredients\": [\"cheese\", \"pineapple\"]\n",
      "}\n",
      "``` \n",
      "\n"
     ]
    }
   ],
   "source": [
    "model = genai.GenerativeModel(\n",
    "    'gemini-1.5-flash-latest',\n",
    "    generation_config=genai.GenerationConfig(\n",
    "        temperature=0.1,\n",
    "        top_p=1,\n",
    "        max_output_tokens=250,\n",
    "    ))\n",
    "\n",
    "few_shot_prompt = \"\"\"Parse a customer's pizza order into valid JSON:\n",
    "\n",
    "EXAMPLE:\n",
    "I want a small pizza with cheese, tomato sauce, and pepperoni.\n",
    "JSON Response:\n",
    "```\n",
    "{\n",
    "\"size\": \"small\",\n",
    "\"type\": \"normal\",\n",
    "\"ingredients\": [\"cheese\", \"tomato sauce\", \"peperoni\"]\n",
    "}\n",
    "```\n",
    "\n",
    "EXAMPLE:\n",
    "Can I get a large pizza with tomato sauce, basil and mozzarella\n",
    "JSON Response:\n",
    "```\n",
    "{\n",
    "\"size\": \"large\",\n",
    "\"type\": \"normal\",\n",
    "\"ingredients\": [\"tomato sauce\", \"basil\", \"mozzarella\"]\n",
    "}\n",
    "\n",
    "ORDER:\n",
    "\"\"\"\n",
    "\n",
    "customer_order = \"Give me a large with cheese & pineapple\"\n",
    "\n",
    "\n",
    "response = model.generate_content([few_shot_prompt, customer_order])\n",
    "print(response.text)"
   ]
  },
  {
   "cell_type": "markdown",
   "id": "d0ee1c6c",
   "metadata": {
    "id": "021293096f08",
    "papermill": {
     "duration": 0.024466,
     "end_time": "2024-11-13T11:20:30.842915",
     "exception": false,
     "start_time": "2024-11-13T11:20:30.818449",
     "status": "completed"
    },
    "tags": []
   },
   "source": [
    "#### JSON mode\n",
    "\n",
    "To provide control over the schema, and to ensure that you only receive JSON (with no other text or markdown), you can use the Gemini API's [JSON mode](https://github.com/google-gemini/cookbook/blob/main/quickstarts/JSON_mode.ipynb). This forces the model to constrain decoding, such that token selection is guided by the supplied schema."
   ]
  },
  {
   "cell_type": "code",
   "execution_count": 20,
   "id": "613c4257",
   "metadata": {
    "execution": {
     "iopub.execute_input": "2024-11-13T11:20:30.895113Z",
     "iopub.status.busy": "2024-11-13T11:20:30.894627Z",
     "iopub.status.idle": "2024-11-13T11:20:31.396083Z",
     "shell.execute_reply": "2024-11-13T11:20:31.394603Z"
    },
    "id": "50fbf0260912",
    "papermill": {
     "duration": 0.530421,
     "end_time": "2024-11-13T11:20:31.398915",
     "exception": false,
     "start_time": "2024-11-13T11:20:30.868494",
     "status": "completed"
    },
    "tags": []
   },
   "outputs": [
    {
     "name": "stdout",
     "output_type": "stream",
     "text": [
      "{\"ingredients\": [\"apple\", \"chocolate\"], \"size\": \"large\", \"type\": \"dessert\"}\n",
      "\n"
     ]
    }
   ],
   "source": [
    "import typing_extensions as typing\n",
    "\n",
    "class PizzaOrder(typing.TypedDict):\n",
    "    size: str\n",
    "    ingredients: list[str]\n",
    "    type: str\n",
    "\n",
    "\n",
    "model = genai.GenerativeModel(\n",
    "    'gemini-1.5-flash-latest',\n",
    "    generation_config=genai.GenerationConfig(\n",
    "        temperature=0.1,\n",
    "        response_mime_type=\"application/json\",\n",
    "        response_schema=PizzaOrder,\n",
    "    ))\n",
    "\n",
    "response = model.generate_content(\"Can I have a large dessert pizza with apple and chocolate\")\n",
    "print(response.text)"
   ]
  },
  {
   "cell_type": "markdown",
   "id": "098aefc3",
   "metadata": {
    "id": "4a93e338e57c",
    "papermill": {
     "duration": 0.021851,
     "end_time": "2024-11-13T11:20:31.444296",
     "exception": false,
     "start_time": "2024-11-13T11:20:31.422445",
     "status": "completed"
    },
    "tags": []
   },
   "source": [
    "### Chain of Thought (CoT)\n",
    "\n",
    "Direct prompting on LLMs can return answers quickly and (in terms of output token usage) efficiently, but they can be prone to hallucination. The answer may \"look\" correct (in terms of language and syntax) but is incorrect in terms of factuality and reasoning.\n",
    "\n",
    "Chain-of-Thought prompting is a technique where you instruct the model to output intermediate reasoning steps, and it typically gets better results, especially when combined with few-shot examples. It is worth noting that this technique doesn't completely eliminate hallucinations, and that it tends to cost more to run, due to the increased token count.\n",
    "\n",
    "As models like the Gemini family are trained to be \"chatty\" and provide reasoning steps, you can ask the model to be more direct in the prompt."
   ]
  },
  {
   "cell_type": "code",
   "execution_count": 21,
   "id": "c2b47442",
   "metadata": {
    "execution": {
     "iopub.execute_input": "2024-11-13T11:20:31.493405Z",
     "iopub.status.busy": "2024-11-13T11:20:31.492993Z",
     "iopub.status.idle": "2024-11-13T11:20:32.200285Z",
     "shell.execute_reply": "2024-11-13T11:20:32.198906Z"
    },
    "id": "5715555db1c1",
    "papermill": {
     "duration": 0.736485,
     "end_time": "2024-11-13T11:20:32.203467",
     "exception": false,
     "start_time": "2024-11-13T11:20:31.466982",
     "status": "completed"
    },
    "tags": []
   },
   "outputs": [
    {
     "name": "stdout",
     "output_type": "stream",
     "text": [
      "Here's how to solve this:\n",
      "\n",
      "* **When you were 4, your partner was 3 times your age:** 4 * 3 = 12 years old\n",
      "* **The age difference between you and your partner:** 12 - 4 = 8 years\n",
      "* **Your partner is always 8 years older than you.**\n",
      "* **Now that you are 20, your partner is:** 20 + 8 = **28 years old** \n",
      "\n"
     ]
    }
   ],
   "source": [
    "prompt = \"\"\"When I was 4 years old, my partner was 3 times my age. Now, I\n",
    "am 20 years old. How old is my partner? Return the answer immediately.\"\"\"\n",
    "\n",
    "model = genai.GenerativeModel('gemini-1.5-flash-latest')\n",
    "response = model.generate_content(prompt)\n",
    "\n",
    "print(response.text)"
   ]
  },
  {
   "cell_type": "markdown",
   "id": "d5f243f3",
   "metadata": {
    "id": "e12b19677bfd",
    "papermill": {
     "duration": 0.021827,
     "end_time": "2024-11-13T11:20:32.247834",
     "exception": false,
     "start_time": "2024-11-13T11:20:32.226007",
     "status": "completed"
    },
    "tags": []
   },
   "source": [
    "Now try the same approach, but indicate to the model that it should \"think step by step\"."
   ]
  },
  {
   "cell_type": "code",
   "execution_count": 22,
   "id": "bbb1dea6",
   "metadata": {
    "execution": {
     "iopub.execute_input": "2024-11-13T11:20:32.298456Z",
     "iopub.status.busy": "2024-11-13T11:20:32.297965Z",
     "iopub.status.idle": "2024-11-13T11:20:33.079819Z",
     "shell.execute_reply": "2024-11-13T11:20:33.077889Z"
    },
    "id": "ffd7536a481f",
    "papermill": {
     "duration": 0.810909,
     "end_time": "2024-11-13T11:20:33.083218",
     "exception": false,
     "start_time": "2024-11-13T11:20:32.272309",
     "status": "completed"
    },
    "tags": []
   },
   "outputs": [
    {
     "name": "stdout",
     "output_type": "stream",
     "text": [
      "Here's how to solve this:\n",
      "\n",
      "* **When you were 4, your partner was 3 times your age:** 4 years old * 3 = 12 years old.\n",
      "* **The age difference between you and your partner:** 12 years old - 4 years old = 8 years.\n",
      "* **Your partner is always 8 years older than you.**\n",
      "* **Now you are 20 years old:** 20 years old + 8 years = **28 years old**\n",
      "\n",
      "Your partner is now 28 years old. \n",
      "\n"
     ]
    }
   ],
   "source": [
    "prompt = \"\"\"When I was 4 years old, my partner was 3 times my age. Now,\n",
    "I am 20 years old. How old is my partner? Let's think step by step.\"\"\"\n",
    "\n",
    "response = model.generate_content(prompt)\n",
    "print(response.text)"
   ]
  },
  {
   "cell_type": "markdown",
   "id": "f71ed40f",
   "metadata": {
    "id": "oiLgBQJj0V53",
    "papermill": {
     "duration": 0.02228,
     "end_time": "2024-11-13T11:20:33.129169",
     "exception": false,
     "start_time": "2024-11-13T11:20:33.106889",
     "status": "completed"
    },
    "tags": []
   },
   "source": [
    "### ReAct: Reason and act\n",
    "\n",
    "In this example you will run a ReAct prompt directly in the Gemini API and perform the searching steps yourself. As this prompt follows a well-defined structure, there are frameworks available that wrap the prompt into easier-to-use APIs that make tool calls automatically, such as the LangChain example from the chapter.\n",
    "\n",
    "To try this out with the Wikipedia search engine, check out the [Searching Wikipedia with ReAct](https://github.com/google-gemini/cookbook/blob/main/examples/Search_Wikipedia_using_ReAct.ipynb) cookbook example.\n",
    "\n",
    "\n",
    "> Note: The prompt and in-context examples used here are from [https://github.com/ysymyth/ReAct](https://github.com/ysymyth/ReAct) which is published under a [MIT license](https://opensource.org/licenses/MIT), Copyright (c) 2023 Shunyu Yao.\n",
    "\n",
    "<table align=left>\n",
    "  <td>\n",
    "    <a target=\"_blank\" href=\"https://aistudio.google.com/prompts/18oo63Lwosd-bQ6Ay51uGogB3Wk3H8XMO\"><img src=\"https://ai.google.dev/site-assets/images/marketing/home/icon-ais.png\" style=\"height: 24px\" height=24/> Open in AI Studio</a>\n",
    "  </td>\n",
    "</table>\n"
   ]
  },
  {
   "cell_type": "code",
   "execution_count": 23,
   "id": "00b30bcd",
   "metadata": {
    "execution": {
     "iopub.execute_input": "2024-11-13T11:20:33.178988Z",
     "iopub.status.busy": "2024-11-13T11:20:33.178061Z",
     "iopub.status.idle": "2024-11-13T11:20:33.189948Z",
     "shell.execute_reply": "2024-11-13T11:20:33.188126Z"
    },
    "id": "cBgyNJ5z0VSs",
    "papermill": {
     "duration": 0.041731,
     "end_time": "2024-11-13T11:20:33.193314",
     "exception": false,
     "start_time": "2024-11-13T11:20:33.151583",
     "status": "completed"
    },
    "tags": []
   },
   "outputs": [],
   "source": [
    "model_instructions = \"\"\"\n",
    "Solve a question answering task with interleaving Thought, Action, Observation steps. Thought can reason about the current situation,\n",
    "Observation is understanding relevant information from an Action's output and Action can be one of three types:\n",
    " (1) <search>entity</search>, which searches the exact entity on Wikipedia and returns the first paragraph if it exists. If not, it\n",
    "     will return some similar entities to search and you can try to search the information from those topics.\n",
    " (2) <lookup>keyword</lookup>, which returns the next sentence containing keyword in the current context. This only does exact matches,\n",
    "     so keep your searches short.\n",
    " (3) <finish>answer</finish>, which returns the answer and finishes the task.\n",
    "\"\"\"\n",
    "\n",
    "example1 = \"\"\"Question\n",
    "Musician and satirist Allie Goertz wrote a song about the \"The Simpsons\" character Milhouse, who Matt Groening named after who?\n",
    "\n",
    "Thought 1\n",
    "The question simplifies to \"The Simpsons\" character Milhouse is named after who. I only need to search Milhouse and find who it is named after.\n",
    "\n",
    "Action 1\n",
    "<search>Milhouse</search>\n",
    "\n",
    "Observation 1\n",
    "Milhouse Mussolini Van Houten is a recurring character in the Fox animated television series The Simpsons voiced by Pamela Hayden and created by Matt Groening.\n",
    "\n",
    "Thought 2\n",
    "The paragraph does not tell who Milhouse is named after, maybe I can look up \"named after\".\n",
    "\n",
    "Action 2\n",
    "<lookup>named after</lookup>\n",
    "\n",
    "Observation 2\n",
    "Milhouse was named after U.S. president Richard Nixon, whose middle name was Milhous.\n",
    "\n",
    "Thought 3\n",
    "Milhouse was named after U.S. president Richard Nixon, so the answer is Richard Nixon.\n",
    "\n",
    "Action 3\n",
    "<finish>Richard Nixon</finish>\n",
    "\"\"\"\n",
    "\n",
    "example2 = \"\"\"Question\n",
    "What is the elevation range for the area that the eastern sector of the Colorado orogeny extends into?\n",
    "\n",
    "Thought 1\n",
    "I need to search Colorado orogeny, find the area that the eastern sector of the Colorado orogeny extends into, then find the elevation range of the area.\n",
    "\n",
    "Action 1\n",
    "<search>Colorado orogeny</search>\n",
    "\n",
    "Observation 1\n",
    "The Colorado orogeny was an episode of mountain building (an orogeny) in Colorado and surrounding areas.\n",
    "\n",
    "Thought 2\n",
    "It does not mention the eastern sector. So I need to look up eastern sector.\n",
    "\n",
    "Action 2\n",
    "<lookup>eastern sector</lookup>\n",
    "\n",
    "Observation 2\n",
    "The eastern sector extends into the High Plains and is called the Central Plains orogeny.\n",
    "\n",
    "Thought 3\n",
    "The eastern sector of Colorado orogeny extends into the High Plains. So I need to search High Plains and find its elevation range.\n",
    "\n",
    "Action 3\n",
    "<search>High Plains</search>\n",
    "\n",
    "Observation 3\n",
    "High Plains refers to one of two distinct land regions\n",
    "\n",
    "Thought 4\n",
    "I need to instead search High Plains (United States).\n",
    "\n",
    "Action 4\n",
    "<search>High Plains (United States)</search>\n",
    "\n",
    "Observation 4\n",
    "The High Plains are a subregion of the Great Plains. From east to west, the High Plains rise in elevation from around 1,800 to 7,000 ft (550 to 2,130m).\n",
    "\n",
    "Thought 5\n",
    "High Plains rise in elevation from around 1,800 to 7,000 ft, so the answer is 1,800 to 7,000 ft.\n",
    "\n",
    "Action 5\n",
    "<finish>1,800 to 7,000 ft</finish>\n",
    "\"\"\"\n",
    "\n",
    "# Come up with more examples yourself, or take a look through https://github.com/ysymyth/ReAct/"
   ]
  },
  {
   "cell_type": "markdown",
   "id": "38a6fbba",
   "metadata": {
    "id": "C3wbfstjTgey",
    "papermill": {
     "duration": 0.021967,
     "end_time": "2024-11-13T11:20:33.238027",
     "exception": false,
     "start_time": "2024-11-13T11:20:33.216060",
     "status": "completed"
    },
    "tags": []
   },
   "source": [
    "To capture a single step at a time, while ignoring any hallucinated Observation steps, you will use `stop_sequences` to end the generation process. The steps are `Thought`, `Action`, `Observation`, in that order."
   ]
  },
  {
   "cell_type": "code",
   "execution_count": 24,
   "id": "70f7d993",
   "metadata": {
    "execution": {
     "iopub.execute_input": "2024-11-13T11:20:33.287267Z",
     "iopub.status.busy": "2024-11-13T11:20:33.286747Z",
     "iopub.status.idle": "2024-11-13T11:20:35.052814Z",
     "shell.execute_reply": "2024-11-13T11:20:35.051540Z"
    },
    "id": "8mxrXRkRTdXm",
    "papermill": {
     "duration": 1.794186,
     "end_time": "2024-11-13T11:20:35.055702",
     "exception": false,
     "start_time": "2024-11-13T11:20:33.261516",
     "status": "completed"
    },
    "tags": []
   },
   "outputs": [
    {
     "name": "stdout",
     "output_type": "stream",
     "text": [
      "Thought 1\n",
      "I need to find the Transformers NLP paper and then find the youngest author on the list.\n",
      "\n",
      "Action 1\n",
      "<search>Transformers NLP paper</search>\n",
      "\n"
     ]
    }
   ],
   "source": [
    "question = \"\"\"Question\n",
    "Who was the youngest author listed on the transformers NLP paper?\n",
    "\"\"\"\n",
    "\n",
    "model = genai.GenerativeModel('gemini-1.5-flash-latest')\n",
    "react_chat = model.start_chat()\n",
    "\n",
    "# You will perform the Action, so generate up to, but not including, the Observation.\n",
    "config = genai.GenerationConfig(stop_sequences=[\"\\nObservation\"])\n",
    "\n",
    "resp = react_chat.send_message(\n",
    "    [model_instructions, example1, example2, question],\n",
    "    generation_config=config)\n",
    "print(resp.text)"
   ]
  },
  {
   "cell_type": "markdown",
   "id": "b2382ec5",
   "metadata": {
    "id": "aW2PIdLbVv3l",
    "papermill": {
     "duration": 0.024245,
     "end_time": "2024-11-13T11:20:35.104768",
     "exception": false,
     "start_time": "2024-11-13T11:20:35.080523",
     "status": "completed"
    },
    "tags": []
   },
   "source": [
    "Now you can perform this research yourself and supply it back to the model."
   ]
  },
  {
   "cell_type": "code",
   "execution_count": 25,
   "id": "b8823b77",
   "metadata": {
    "execution": {
     "iopub.execute_input": "2024-11-13T11:20:35.154521Z",
     "iopub.status.busy": "2024-11-13T11:20:35.154069Z",
     "iopub.status.idle": "2024-11-13T11:20:35.683817Z",
     "shell.execute_reply": "2024-11-13T11:20:35.682419Z"
    },
    "id": "mLMc0DZaV9g2",
    "papermill": {
     "duration": 0.559243,
     "end_time": "2024-11-13T11:20:35.686974",
     "exception": false,
     "start_time": "2024-11-13T11:20:35.127731",
     "status": "completed"
    },
    "tags": []
   },
   "outputs": [
    {
     "name": "stdout",
     "output_type": "stream",
     "text": [
      "Thought 2\n",
      "The paper doesn't mention the age of the authors. I need to look up each author's age.\n",
      "\n",
      "Action 2\n",
      "<search>Ashish Vaswani age</search> \n",
      "\n"
     ]
    }
   ],
   "source": [
    "observation = \"\"\"Observation 1\n",
    "[1706.03762] Attention Is All You Need\n",
    "Ashish Vaswani, Noam Shazeer, Niki Parmar, Jakob Uszkoreit, Llion Jones, Aidan N. Gomez, Lukasz Kaiser, Illia Polosukhin\n",
    "We propose a new simple network architecture, the Transformer, based solely on attention mechanisms, dispensing with recurrence and convolutions entirely.\n",
    "\"\"\"\n",
    "resp = react_chat.send_message(observation, generation_config=config)\n",
    "print(resp.text)"
   ]
  },
  {
   "cell_type": "markdown",
   "id": "3b83f96b",
   "metadata": {
    "id": "bo0tzf4nX6dA",
    "papermill": {
     "duration": 0.021834,
     "end_time": "2024-11-13T11:20:35.731964",
     "exception": false,
     "start_time": "2024-11-13T11:20:35.710130",
     "status": "completed"
    },
    "tags": []
   },
   "source": [
    "This process repeats until the `<finish>` action is reached. You can continue running this yourself if you like, or try the [Wikipedia example](https://github.com/google-gemini/cookbook/blob/main/examples/Search_Wikipedia_using_ReAct.ipynb) to see a fully automated ReAct system at work."
   ]
  },
  {
   "cell_type": "markdown",
   "id": "ebe3bcea",
   "metadata": {
    "id": "jPiZ_eIIaVPt",
    "papermill": {
     "duration": 0.023244,
     "end_time": "2024-11-13T11:20:35.776952",
     "exception": false,
     "start_time": "2024-11-13T11:20:35.753708",
     "status": "completed"
    },
    "tags": []
   },
   "source": [
    "## Code prompting"
   ]
  },
  {
   "cell_type": "markdown",
   "id": "ce5b5c85",
   "metadata": {
    "id": "ZinKamwXeR6C",
    "papermill": {
     "duration": 0.022954,
     "end_time": "2024-11-13T11:20:35.825791",
     "exception": false,
     "start_time": "2024-11-13T11:20:35.802837",
     "status": "completed"
    },
    "tags": []
   },
   "source": [
    "### Generating code\n",
    "\n",
    "The Gemini family of models can be used to generate code, configuration and scripts. Generating code can be helpful when learning to code, learning a new language or for rapidly generating a first draft.\n",
    "\n",
    "It's important to be aware that since LLMs can't reason, and can repeat training data, it's essential to read and test your code first, and comply with any relevant licenses.\n",
    "\n",
    "<table align=left>\n",
    "  <td>\n",
    "    <a target=\"_blank\" href=\"https://aistudio.google.com/prompts/1YX71JGtzDjXQkgdes8bP6i3oH5lCRKxv\"><img src=\"https://ai.google.dev/site-assets/images/marketing/home/icon-ais.png\" style=\"height: 24px\" height=24/> Open in AI Studio</a>\n",
    "  </td>\n",
    "</table>"
   ]
  },
  {
   "cell_type": "code",
   "execution_count": 26,
   "id": "fa2ba7f6",
   "metadata": {
    "execution": {
     "iopub.execute_input": "2024-11-13T11:20:35.877263Z",
     "iopub.status.busy": "2024-11-13T11:20:35.876721Z",
     "iopub.status.idle": "2024-11-13T11:20:36.325844Z",
     "shell.execute_reply": "2024-11-13T11:20:36.324678Z"
    },
    "id": "fOQP9pqmeUO1",
    "papermill": {
     "duration": 0.478414,
     "end_time": "2024-11-13T11:20:36.328679",
     "exception": false,
     "start_time": "2024-11-13T11:20:35.850265",
     "status": "completed"
    },
    "tags": []
   },
   "outputs": [
    {
     "data": {
      "text/markdown": [
       "```python\n",
       "def factorial(n):\n",
       "  if n == 0:\n",
       "    return 1\n",
       "  else:\n",
       "    return n * factorial(n-1)\n",
       "```"
      ],
      "text/plain": [
       "<IPython.core.display.Markdown object>"
      ]
     },
     "execution_count": 26,
     "metadata": {},
     "output_type": "execute_result"
    }
   ],
   "source": [
    "model = genai.GenerativeModel(\n",
    "    'gemini-1.5-flash-latest',\n",
    "    generation_config=genai.GenerationConfig(\n",
    "        temperature=1,\n",
    "        top_p=1,\n",
    "        max_output_tokens=1024,\n",
    "    ))\n",
    "\n",
    "# Gemini 1.5 models are very chatty, so it helps to specify they stick to the code.\n",
    "code_prompt = \"\"\"\n",
    "Write a Python function to calculate the factorial of a number. No explanation, provide only the code.\n",
    "\"\"\"\n",
    "\n",
    "response = model.generate_content(code_prompt)\n",
    "Markdown(response.text)"
   ]
  },
  {
   "cell_type": "markdown",
   "id": "944c0ca5",
   "metadata": {
    "id": "wlBMWSFhgVRQ",
    "papermill": {
     "duration": 0.025853,
     "end_time": "2024-11-13T11:20:36.377840",
     "exception": false,
     "start_time": "2024-11-13T11:20:36.351987",
     "status": "completed"
    },
    "tags": []
   },
   "source": [
    "### Code execution\n",
    "\n",
    "The Gemini API can automatically run generated code too, and will return the output.\n",
    "\n",
    "<table align=left>\n",
    "  <td>\n",
    "    <a target=\"_blank\" href=\"https://aistudio.google.com/prompts/11veFr_VYEwBWcLkhNLr-maCG0G8sS_7Z\"><img src=\"https://ai.google.dev/site-assets/images/marketing/home/icon-ais.png\" style=\"height: 24px\" height=24/> Open in AI Studio</a>\n",
    "  </td>\n",
    "</table>"
   ]
  },
  {
   "cell_type": "code",
   "execution_count": 27,
   "id": "f32ac9a5",
   "metadata": {
    "execution": {
     "iopub.execute_input": "2024-11-13T11:20:36.428447Z",
     "iopub.status.busy": "2024-11-13T11:20:36.427967Z",
     "iopub.status.idle": "2024-11-13T11:20:42.260753Z",
     "shell.execute_reply": "2024-11-13T11:20:42.258410Z"
    },
    "id": "jT3OfWYfhjRL",
    "papermill": {
     "duration": 5.860841,
     "end_time": "2024-11-13T11:20:42.263993",
     "exception": false,
     "start_time": "2024-11-13T11:20:36.403152",
     "status": "completed"
    },
    "tags": []
   },
   "outputs": [
    {
     "data": {
      "text/markdown": [
       "I will calculate the sum of the first 14 odd prime numbers. \n",
       "\n",
       "First, I will identify the first 14 odd primes. \n",
       "\n",
       "\n",
       "``` python\n",
       "import sympy\n",
       "\n",
       "primes = list(sympy.primerange(1, 100))\n",
       "odd_primes = [prime for prime in primes if prime % 2 != 0]\n",
       "print(f'{odd_primes[:14]=}')\n",
       "\n",
       "```\n",
       "```\n",
       "odd_primes[:14]=[3, 5, 7, 11, 13, 17, 19, 23, 29, 31, 37, 41, 43, 47]\n",
       "\n",
       "```\n",
       "Now I will sum the first 14 odd primes in the list: 3, 5, 7, 11, 13, 17, 19, 23, 29, 31, 37, 41, 43, 47.\n",
       "\n",
       "\n",
       "``` python\n",
       "sum = 0\n",
       "for prime in odd_primes[:14]:\n",
       "    sum += prime\n",
       "print(f'{sum=}')\n",
       "\n",
       "```\n",
       "```\n",
       "sum=326\n",
       "\n",
       "```\n",
       "Therefore, the sum of the first 14 odd prime numbers is 326. \n"
      ],
      "text/plain": [
       "<IPython.core.display.Markdown object>"
      ]
     },
     "execution_count": 27,
     "metadata": {},
     "output_type": "execute_result"
    }
   ],
   "source": [
    "model = genai.GenerativeModel(\n",
    "    'gemini-1.5-flash-latest',\n",
    "    tools='code_execution')\n",
    "\n",
    "code_exec_prompt = \"\"\"\n",
    "Calculate the sum of the first 14 prime numbers. Only consider the odd primes, and make sure you get them all.\n",
    "\"\"\"\n",
    "\n",
    "response = model.generate_content(code_exec_prompt)\n",
    "Markdown(response.text)"
   ]
  },
  {
   "cell_type": "markdown",
   "id": "a74f15c8",
   "metadata": {
    "id": "ZspT1GSkjG6d",
    "papermill": {
     "duration": 0.025637,
     "end_time": "2024-11-13T11:20:42.316857",
     "exception": false,
     "start_time": "2024-11-13T11:20:42.291220",
     "status": "completed"
    },
    "tags": []
   },
   "source": [
    "While this looks like a single-part response, you can inspect the response to see the each of the steps: initial text, code generation, execution results, and final text summary."
   ]
  },
  {
   "cell_type": "code",
   "execution_count": 28,
   "id": "eadfc3e0",
   "metadata": {
    "execution": {
     "iopub.execute_input": "2024-11-13T11:20:42.366655Z",
     "iopub.status.busy": "2024-11-13T11:20:42.366041Z",
     "iopub.status.idle": "2024-11-13T11:20:42.374661Z",
     "shell.execute_reply": "2024-11-13T11:20:42.373415Z"
    },
    "id": "j4gQVzcRjRX-",
    "papermill": {
     "duration": 0.037259,
     "end_time": "2024-11-13T11:20:42.378235",
     "exception": false,
     "start_time": "2024-11-13T11:20:42.340976",
     "status": "completed"
    },
    "tags": []
   },
   "outputs": [
    {
     "name": "stdout",
     "output_type": "stream",
     "text": [
      "text: \"I will calculate the sum of the first 14 odd prime numbers. \\n\\nFirst, I will identify the first 14 odd primes. \\n\\n\"\n",
      "\n",
      "-----\n",
      "executable_code {\n",
      "  language: PYTHON\n",
      "  code: \"\\nimport sympy\\n\\nprimes = list(sympy.primerange(1, 100))\\nodd_primes = [prime for prime in primes if prime % 2 != 0]\\nprint(f\\'{odd_primes[:14]=}\\')\\n\"\n",
      "}\n",
      "\n",
      "-----\n",
      "code_execution_result {\n",
      "  outcome: OUTCOME_OK\n",
      "  output: \"odd_primes[:14]=[3, 5, 7, 11, 13, 17, 19, 23, 29, 31, 37, 41, 43, 47]\\n\"\n",
      "}\n",
      "\n",
      "-----\n",
      "text: \"Now I will sum the first 14 odd primes in the list: 3, 5, 7, 11, 13, 17, 19, 23, 29, 31, 37, 41, 43, 47.\\n\\n\"\n",
      "\n",
      "-----\n",
      "executable_code {\n",
      "  language: PYTHON\n",
      "  code: \"\\nsum = 0\\nfor prime in odd_primes[:14]:\\n    sum += prime\\nprint(f\\'{sum=}\\')\\n\"\n",
      "}\n",
      "\n",
      "-----\n",
      "code_execution_result {\n",
      "  outcome: OUTCOME_OK\n",
      "  output: \"sum=326\\n\"\n",
      "}\n",
      "\n",
      "-----\n",
      "text: \"Therefore, the sum of the first 14 odd prime numbers is 326. \\n\"\n",
      "\n",
      "-----\n"
     ]
    }
   ],
   "source": [
    "for part in response.candidates[0].content.parts:\n",
    "  print(part)\n",
    "  print(\"-----\")"
   ]
  },
  {
   "cell_type": "code",
   "execution_count": 29,
   "id": "49751636",
   "metadata": {
    "execution": {
     "iopub.execute_input": "2024-11-13T11:20:42.429686Z",
     "iopub.status.busy": "2024-11-13T11:20:42.429132Z",
     "iopub.status.idle": "2024-11-13T11:20:45.719176Z",
     "shell.execute_reply": "2024-11-13T11:20:45.718057Z"
    },
    "id": "7_jPMMoxkIEb",
    "papermill": {
     "duration": 3.318753,
     "end_time": "2024-11-13T11:20:45.721694",
     "exception": false,
     "start_time": "2024-11-13T11:20:42.402941",
     "status": "completed"
    },
    "tags": []
   },
   "outputs": [
    {
     "data": {
      "text/markdown": [
       "This file is a Bash script named `git-prompt.sh` that provides advanced Git-aware prompts for your terminal. Here's a breakdown of what it does and why you'd use it:\n",
       "\n",
       "**What it is:**\n",
       "\n",
       "* **Git-aware prompt:** It enhances your Bash prompt to display information about the current Git repository, like the branch name, status (ahead/behind, changes, etc.), and optionally remote information.\n",
       "* **Highly customizable:** You can tailor the appearance with colors, symbols, prefixes, suffixes, and a host of other settings.\n",
       "* **Theme-based:**  It includes built-in themes and allows you to create custom themes.\n",
       "* **Cross-shell compatible:** Works with both Bash and Zsh.\n",
       "\n",
       "**Why use it:**\n",
       "\n",
       "* **Improve Git workflow:** See at a glance the state of your Git repository without running additional commands.\n",
       "* **Enhanced information:**  Provides more information in the prompt than the default Git prompt, making it easier to understand your project's status.\n",
       "* **Personalization:**  Customize the look and feel of your prompt to your preference, improving your terminal experience.\n",
       "* **Efficiency:**  Quickly understand the Git status without leaving your current command line. \n",
       "\n",
       "**How it works (at a high level):**\n",
       "\n",
       "1. **Loads color settings:** It sources a file that defines colors for the prompt.\n",
       "2. **Sets up prompt functions:** Defines functions to get branch information, format the prompt, and handle remote status checks.\n",
       "3. **Configures variables:** Sets variables based on your preferences, like the theme, symbol choices, and whether to show remote information.\n",
       "4. **Determines repository state:** Checks if the current directory is a Git repository and gathers information about its status.\n",
       "5. **Builds the prompt:** Combines the repository status information with your chosen settings to create a visually appealing and informative prompt.\n",
       "\n",
       "**To use this script:**\n",
       "\n",
       "1. **Save it:** Save the script as `git-prompt.sh` in your preferred location.\n",
       "2. **Source it:** Add the following line to your shell's configuration file (`.bashrc` for Bash, `.zshrc` for Zsh):\n",
       "\n",
       "   ```bash\n",
       "   source path/to/git-prompt.sh\n",
       "   ```\n",
       "\n",
       "3. **Optionally customize:** Edit the script or create a custom theme file to personalize your prompt.\n",
       "\n",
       "With these steps, your terminal prompt will now show the current Git repository's information. \n"
      ],
      "text/plain": [
       "<IPython.core.display.Markdown object>"
      ]
     },
     "execution_count": 29,
     "metadata": {},
     "output_type": "execute_result"
    }
   ],
   "source": [
    "file_contents = !curl https://raw.githubusercontent.com/magicmonty/bash-git-prompt/refs/heads/master/gitprompt.sh\n",
    "\n",
    "explain_prompt = f\"\"\"\n",
    "Please explain what this file does at a very high level. What is it, and why would I use it?\n",
    "\n",
    "```\n",
    "{file_contents}\n",
    "```\n",
    "\"\"\"\n",
    "\n",
    "model = genai.GenerativeModel('gemini-1.5-flash-latest')\n",
    "\n",
    "response = model.generate_content(explain_prompt)\n",
    "Markdown(response.text)"
   ]
  },
  {
   "cell_type": "markdown",
   "id": "53339c60",
   "metadata": {
    "id": "1gUX8QzCj4d5",
    "papermill": {
     "duration": 0.024275,
     "end_time": "2024-11-13T11:20:45.773346",
     "exception": false,
     "start_time": "2024-11-13T11:20:45.749071",
     "status": "completed"
    },
    "tags": []
   },
   "source": [
    "### Explaining code\n",
    "\n",
    "The Gemini family of models can explain code to you too.\n",
    "\n",
    "<table align=left>\n",
    "  <td>\n",
    "    <a target=\"_blank\" href=\"https://aistudio.google.com/prompts/1N7LGzWzCYieyOf_7bAG4plrmkpDNmUyb\"><img src=\"https://ai.google.dev/site-assets/images/marketing/home/icon-ais.png\" style=\"height: 24px\" height=24/> Open in AI Studio</a>\n",
    "  </td>\n",
    "</table>"
   ]
  },
  {
   "cell_type": "markdown",
   "id": "34f67f88",
   "metadata": {
    "id": "2a8266d97ce5",
    "papermill": {
     "duration": 0.024203,
     "end_time": "2024-11-13T11:20:45.822856",
     "exception": false,
     "start_time": "2024-11-13T11:20:45.798653",
     "status": "completed"
    },
    "tags": []
   },
   "source": [
    "## Learn more\n",
    "\n",
    "To learn more about prompting in depth:\n",
    "\n",
    "* Check out the whitepaper issued with today's content,\n",
    "* Try out the apps listed at the top of this notebook ([TextFX](https://textfx.withgoogle.com/), [SQL Talk](https://sql-talk-r5gdynozbq-uc.a.run.app/) and [NotebookLM](https://notebooklm.google/)),\n",
    "* Read the [Introduction to Prompting](https://ai.google.dev/gemini-api/docs/prompting-intro) from the Gemini API docs,\n",
    "* Explore the Gemini API's [prompt gallery](https://ai.google.dev/gemini-api/prompts) and try them out in AI Studio,\n",
    "* Check out the Gemini API cookbook for [inspirational examples](https://github.com/google-gemini/cookbook/blob/main/examples/) and [educational quickstarts](https://github.com/google-gemini/cookbook/blob/main/quickstarts/).\n",
    "\n",
    "And please share anything exciting you have tried in the Discord!"
   ]
  }
 ],
 "metadata": {
  "colab": {
   "name": "day-1-prompting.ipynb",
   "toc_visible": true
  },
  "kaggle": {
   "accelerator": "none",
   "dataSources": [],
   "dockerImageVersionId": 30786,
   "isGpuEnabled": false,
   "isInternetEnabled": true,
   "language": "python",
   "sourceType": "notebook"
  },
  "kernelspec": {
   "display_name": "Python 3",
   "language": "python",
   "name": "python3"
  },
  "language_info": {
   "codemirror_mode": {
    "name": "ipython",
    "version": 3
   },
   "file_extension": ".py",
   "mimetype": "text/x-python",
   "name": "python",
   "nbconvert_exporter": "python",
   "pygments_lexer": "ipython3",
   "version": "3.10.14"
  },
  "papermill": {
   "default_parameters": {},
   "duration": 272.72576,
   "end_time": "2024-11-13T11:20:46.570131",
   "environment_variables": {},
   "exception": null,
   "input_path": "__notebook__.ipynb",
   "output_path": "__notebook__.ipynb",
   "parameters": {},
   "start_time": "2024-11-13T11:16:13.844371",
   "version": "2.6.0"
  }
 },
 "nbformat": 4,
 "nbformat_minor": 5
}
